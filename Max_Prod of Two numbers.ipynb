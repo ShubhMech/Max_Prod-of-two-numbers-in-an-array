{
 "cells": [
  {
   "cell_type": "markdown",
   "id": "299186e3-418c-447b-ad25-81e2168bcd8e",
   "metadata": {},
   "source": [
    "### Max product of two numbers"
   ]
  },
  {
   "cell_type": "code",
   "execution_count": 3,
   "id": "238cb228-fa12-469e-b938-0e5f556d7755",
   "metadata": {},
   "outputs": [],
   "source": [
    "def max_prod(n):\n",
    "    max_= 0\n",
    "    for i in range(len(n)):\n",
    "        for j in range(i+1,len(n)):\n",
    "            if n[i]*n[j]> max_:\n",
    "                max_= n[i]*n[j]\n",
    "                pairs= (n[i], n[j])\n",
    "                \n",
    "    return n[i]*n[j] , pairs"
   ]
  },
  {
   "cell_type": "code",
   "execution_count": 4,
   "id": "c51e83a3-b918-4289-b2d5-80447256e518",
   "metadata": {},
   "outputs": [
    {
     "data": {
      "text/plain": [
       "(484, (54, 22))"
      ]
     },
     "execution_count": 4,
     "metadata": {},
     "output_type": "execute_result"
    }
   ],
   "source": [
    "from array import *\n",
    "arr= array(\"i\",[1,2,4,6,8,5,3,5,7,8,54,3,22])\n",
    "max_prod(arr)"
   ]
  },
  {
   "cell_type": "code",
   "execution_count": null,
   "id": "6872bcd2-ac41-4f42-802e-454d0217bbed",
   "metadata": {},
   "outputs": [],
   "source": []
  }
 ],
 "metadata": {
  "kernelspec": {
   "display_name": "Python 3",
   "language": "python",
   "name": "python3"
  },
  "language_info": {
   "codemirror_mode": {
    "name": "ipython",
    "version": 3
   },
   "file_extension": ".py",
   "mimetype": "text/x-python",
   "name": "python",
   "nbconvert_exporter": "python",
   "pygments_lexer": "ipython3",
   "version": "3.8.5"
  }
 },
 "nbformat": 4,
 "nbformat_minor": 5
}
